{
 "cells": [
  {
   "cell_type": "markdown",
   "id": "bc4214bf",
   "metadata": {},
   "source": [
    "# Operations in OpenCV with images"
   ]
  },
  {
   "cell_type": "markdown",
   "id": "35abc3f4",
   "metadata": {},
   "source": [
    "Library import"
   ]
  },
  {
   "cell_type": "code",
   "execution_count": 1,
   "id": "1928bb69",
   "metadata": {},
   "outputs": [],
   "source": [
    "import cv2 as cv\n",
    "import numpy as np"
   ]
  },
  {
   "cell_type": "markdown",
   "id": "6f099f64",
   "metadata": {},
   "source": [
    "Importing flower"
   ]
  },
  {
   "cell_type": "code",
   "execution_count": 2,
   "id": "4195f298",
   "metadata": {},
   "outputs": [],
   "source": [
    "flowerPath = './flower.jpg'\n",
    "flower = cv.imread(flowerPath)"
   ]
  },
  {
   "cell_type": "markdown",
   "id": "7503480b",
   "metadata": {},
   "source": [
    "Show original flower"
   ]
  },
  {
   "cell_type": "code",
   "execution_count": 16,
   "id": "c2903a2a",
   "metadata": {},
   "outputs": [],
   "source": [
    "cv.imshow('FLower',flower)\n",
    "cv.waitKey(0)\n",
    "cv.destroyAllWindows()"
   ]
  },
  {
   "cell_type": "markdown",
   "id": "6f7430f0",
   "metadata": {},
   "source": [
    "Gray scale image"
   ]
  },
  {
   "cell_type": "code",
   "execution_count": 17,
   "id": "a5282d60",
   "metadata": {},
   "outputs": [],
   "source": [
    "grayFlower = cv.cvtColor(flower, cv.COLOR_RGB2GRAY)"
   ]
  },
  {
   "cell_type": "code",
   "execution_count": 18,
   "id": "d5cf61eb",
   "metadata": {},
   "outputs": [],
   "source": [
    "cv.imshow('Gray FLower',grayFlower)\n",
    "cv.waitKey(0)\n",
    "cv.destroyAllWindows()"
   ]
  },
  {
   "cell_type": "markdown",
   "id": "691534d0",
   "metadata": {},
   "source": [
    "Channel R"
   ]
  },
  {
   "cell_type": "code",
   "execution_count": 3,
   "id": "6a8bf7d3",
   "metadata": {},
   "outputs": [],
   "source": [
    "flowerR = flower[:,:,2]"
   ]
  },
  {
   "cell_type": "code",
   "execution_count": null,
   "id": "d8811f53",
   "metadata": {},
   "outputs": [],
   "source": [
    "cv.imshow('FLower R',flowerR)\n",
    "cv.waitKey(0)\n",
    "cv.destroyAllWindows()"
   ]
  },
  {
   "cell_type": "markdown",
   "id": "7ed7bac0",
   "metadata": {},
   "source": [
    "Channel G"
   ]
  },
  {
   "cell_type": "code",
   "execution_count": 4,
   "id": "e12c6662",
   "metadata": {},
   "outputs": [],
   "source": [
    "flowerG = flower[:,:,1]"
   ]
  },
  {
   "cell_type": "code",
   "execution_count": null,
   "id": "3d4693b0",
   "metadata": {},
   "outputs": [],
   "source": [
    "cv.imshow('FLower G',flowerR)\n",
    "cv.waitKey(0)\n",
    "cv.destroyAllWindows()"
   ]
  },
  {
   "cell_type": "markdown",
   "id": "8690899e",
   "metadata": {},
   "source": [
    "Channel B"
   ]
  },
  {
   "cell_type": "code",
   "execution_count": 5,
   "id": "b55a93a7",
   "metadata": {},
   "outputs": [],
   "source": [
    "flowerB = flower[:,:,0]"
   ]
  },
  {
   "cell_type": "code",
   "execution_count": null,
   "id": "e0dea64b",
   "metadata": {},
   "outputs": [],
   "source": [
    "cv.imshow('FLower B',flowerB)\n",
    "cv.waitKey(0)\n",
    "cv.destroyAllWindows()"
   ]
  },
  {
   "cell_type": "markdown",
   "id": "0c22f395",
   "metadata": {},
   "source": [
    "Join RGB"
   ]
  },
  {
   "cell_type": "code",
   "execution_count": 6,
   "id": "403ccc02",
   "metadata": {},
   "outputs": [],
   "source": [
    "joinRGB = np.hstack([flowerR, flowerG, flowerB])"
   ]
  },
  {
   "cell_type": "code",
   "execution_count": 7,
   "id": "657216f8",
   "metadata": {},
   "outputs": [],
   "source": [
    "cv.imshow('FLower join RGB',joinRGB)\n",
    "cv.waitKey(0)\n",
    "cv.destroyAllWindows()"
   ]
  },
  {
   "cell_type": "markdown",
   "id": "8cc134ef",
   "metadata": {},
   "source": [
    "RGB to BRG"
   ]
  },
  {
   "cell_type": "code",
   "execution_count": 21,
   "id": "972d17a1",
   "metadata": {},
   "outputs": [],
   "source": [
    "flowerBGR = cv.cvtColor(flower, cv.COLOR_RGB2BGR)"
   ]
  },
  {
   "cell_type": "code",
   "execution_count": 22,
   "id": "ab6498cd",
   "metadata": {},
   "outputs": [],
   "source": [
    "cv.imshow('FLower BGR',flowerBGR)\n",
    "cv.waitKey(0)\n",
    "cv.destroyAllWindows()"
   ]
  },
  {
   "cell_type": "markdown",
   "id": "3267f52a",
   "metadata": {},
   "source": [
    "Final"
   ]
  }
 ],
 "metadata": {
  "kernelspec": {
   "display_name": "Python 3 (ipykernel)",
   "language": "python",
   "name": "python3"
  },
  "language_info": {
   "codemirror_mode": {
    "name": "ipython",
    "version": 3
   },
   "file_extension": ".py",
   "mimetype": "text/x-python",
   "name": "python",
   "nbconvert_exporter": "python",
   "pygments_lexer": "ipython3",
   "version": "3.10.6"
  }
 },
 "nbformat": 4,
 "nbformat_minor": 5
}
